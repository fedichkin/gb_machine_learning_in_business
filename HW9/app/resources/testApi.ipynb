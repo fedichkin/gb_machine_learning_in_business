{
 "cells": [
  {
   "cell_type": "code",
   "execution_count": 1,
   "id": "62ebd0cf",
   "metadata": {},
   "outputs": [],
   "source": [
    "import urllib.request\n",
    "import json      \n",
    "\n",
    "def get_prediction(temperature, luminosity, radius, absolute_magnitude, star_color, spectral_class):\n",
    "    body = {\n",
    "        'temperature': temperature, \n",
    "        'luminosity': luminosity,\n",
    "        'radius': radius,\n",
    "        'absolute_magnitude': absolute_magnitude,\n",
    "        'star_color': star_color,\n",
    "        'spectral_class': spectral_class\n",
    "    } \n",
    "\n",
    "    myurl = \"http://localhost:8180/predict\"\n",
    "    req = urllib.request.Request(myurl)\n",
    "    req.add_header('Content-Type', 'application/json; charset=utf-8')\n",
    "    jsondata = json.dumps(body)\n",
    "    jsondataasbytes = jsondata.encode('utf-8')   # needs to be bytes\n",
    "    req.add_header('Content-Length', len(jsondataasbytes))\n",
    "    response = urllib.request.urlopen(req, jsondataasbytes)\n",
    "    \n",
    "    return json.loads(response.read())['predictions']"
   ]
  },
  {
   "cell_type": "code",
   "execution_count": 3,
   "id": "cec41270",
   "metadata": {},
   "outputs": [
    {
     "data": {
      "text/plain": [
       "[0.0, 0.0, 0.0, 0.05, 0.77, 0.18]"
      ]
     },
     "execution_count": 3,
     "metadata": {},
     "output_type": "execute_result"
    }
   ],
   "source": [
    "get_prediction(33421, 352000.0, 67.0, -5.79, \"Blue\", \"M\")"
   ]
  }
 ],
 "metadata": {
  "kernelspec": {
   "display_name": "Python 3 (ipykernel)",
   "language": "python",
   "name": "python3"
  },
  "language_info": {
   "codemirror_mode": {
    "name": "ipython",
    "version": 3
   },
   "file_extension": ".py",
   "mimetype": "text/x-python",
   "name": "python",
   "nbconvert_exporter": "python",
   "pygments_lexer": "ipython3",
   "version": "3.9.7"
  }
 },
 "nbformat": 4,
 "nbformat_minor": 5
}
